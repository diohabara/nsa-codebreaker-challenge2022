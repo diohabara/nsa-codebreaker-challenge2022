{
 "cells": [
  {
   "cell_type": "markdown",
   "metadata": {},
   "source": [
    "# Task 6 - Gaining Access - (Web Hacking, [redacted])Points: 150\n",
    "\n",
    "## Problem statement\n",
    "\n",
    "> We've found the login page on the ransomware site, but we don't know anyone's username or password. Luckily, the file you recovered from the attacker's computer looks like it could be helpful.\n",
    "> Generate a new token value which will allow you to access the ransomware site.\n",
    "> Enter a token value which will authenticate you as a user of the site.\n"
   ]
  },
  {
   "cell_type": "code",
   "execution_count": null,
   "metadata": {},
   "outputs": [],
   "source": []
  }
 ],
 "metadata": {
  "kernelspec": {
   "display_name": "Python 3.10.5 ('.venv': poetry)",
   "language": "python",
   "name": "python3"
  },
  "language_info": {
   "name": "python",
   "version": "3.10.5"
  },
  "orig_nbformat": 4,
  "vscode": {
   "interpreter": {
    "hash": "7340141b1bedd2bdf59474c73850bf87451207a8ef665322ce50be7e268f9e4c"
   }
  }
 },
 "nbformat": 4,
 "nbformat_minor": 2
}
