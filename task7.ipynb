{
 "cells": [
  {
   "cell_type": "markdown",
   "metadata": {},
   "source": [
    "# Task 7 - Privilege Escalation - (Web Hacking, [redacted])Points: 300\n",
    "\n",
    "## Problem statement\n",
    "\n",
    "> With access to the site, you can access most of the functionality. But there's still that admin area that's locked off.\n",
    "> Generate a new token value which will allow you to access the ransomware site as an administrator.\n",
    "> Enter a token value which will allow you to login as an administrator.\n"
   ]
  },
  {
   "cell_type": "code",
   "execution_count": null,
   "metadata": {},
   "outputs": [],
   "source": []
  }
 ],
 "metadata": {
  "kernelspec": {
   "display_name": "Python 3.10.5 ('.venv': poetry)",
   "language": "python",
   "name": "python3"
  },
  "language_info": {
   "name": "python",
   "version": "3.10.5"
  },
  "orig_nbformat": 4,
  "vscode": {
   "interpreter": {
    "hash": "7340141b1bedd2bdf59474c73850bf87451207a8ef665322ce50be7e268f9e4c"
   }
  }
 },
 "nbformat": 4,
 "nbformat_minor": 2
}
