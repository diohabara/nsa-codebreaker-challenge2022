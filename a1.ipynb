{
 "cells": [
  {
   "cell_type": "markdown",
   "metadata": {},
   "source": [
    "# Task A1 - Initial access - (Log analysis) Points: 10\n",
    "\n",
    "## Problem Statement\n",
    "\n",
    "> We believe that the attacker may have gained access to the victim’s network by phishing a legitimate users credentials and connecting over the company’s VPN. The FBI has obtained a copy of the company’s VPN server log for the week in which the attack took place. Do any of the user accounts show unusual behavior which might indicate their credentials have been compromised?\n",
    "> Note that all IP addresses have been anonymized.\n",
    "> Enter the username which shows signs of a possible compromise."
   ]
  },
  {
   "cell_type": "markdown",
   "metadata": {},
   "source": [
    "Given VPN logs, we need to return a username who is seemingly malicious.\n",
    "First, use Python to analyze the given file `data/vpn.log`."
   ]
  },
  {
   "cell_type": "code",
   "execution_count": 1,
   "metadata": {},
   "outputs": [],
   "source": [
    "import pandas as pd\n",
    "from datetime import datetime, timedelta\n",
    "import warnings\n",
    "warnings.filterwarnings('ignore')"
   ]
  },
  {
   "cell_type": "code",
   "execution_count": 1,
   "metadata": {},
   "outputs": [
    {
     "ename": "NameError",
     "evalue": "name 'pd' is not defined",
     "output_type": "error",
     "traceback": [
      "\u001b[0;31m---------------------------------------------------------------------------\u001b[0m",
      "\u001b[0;31mNameError\u001b[0m                                 Traceback (most recent call last)",
      "\u001b[1;32m/Users/jio/repo/github.com/diohabara/cs6322-f22/nsa-codebreak-challenge2022/a1.ipynb Cell 4\u001b[0m in \u001b[0;36m<cell line: 1>\u001b[0;34m()\u001b[0m\n\u001b[0;32m----> <a href='vscode-notebook-cell:/Users/jio/repo/github.com/diohabara/cs6322-f22/nsa-codebreak-challenge2022/a1.ipynb#W3sZmlsZQ%3D%3D?line=0'>1</a>\u001b[0m df \u001b[39m=\u001b[39m pd\u001b[39m.\u001b[39mread_csv(\u001b[39m\"\u001b[39m\u001b[39mdata/a1/vpn.log\u001b[39m\u001b[39m\"\u001b[39m)\n\u001b[1;32m      <a href='vscode-notebook-cell:/Users/jio/repo/github.com/diohabara/cs6322-f22/nsa-codebreak-challenge2022/a1.ipynb#W3sZmlsZQ%3D%3D?line=1'>2</a>\u001b[0m df\u001b[39m.\u001b[39mhead()\n",
      "\u001b[0;31mNameError\u001b[0m: name 'pd' is not defined"
     ]
    }
   ],
   "source": [
    "df = pd.read_csv(\"data/a1/vpn.log\")\n",
    "df.head()"
   ]
  },
  {
   "cell_type": "markdown",
   "metadata": {},
   "source": [
    "This result shows `data/vpn.log`'s columns.\n",
    "Some of the tables seem useless in terms of analysis, so let's remove them."
   ]
  },
  {
   "cell_type": "code",
   "execution_count": 3,
   "metadata": {},
   "outputs": [],
   "source": [
    "df = df.drop(columns=[\"Node\", \"Service\", \"Active\", \"Proto\", \"Port\", \"Error\"])"
   ]
  },
  {
   "cell_type": "markdown",
   "metadata": {},
   "source": [
    "After this procedure, use `Start Time` and `Duration` to create a new column.\n",
    "This column name should be `End Time` opposition to `Start Time`."
   ]
  },
  {
   "cell_type": "code",
   "execution_count": 4,
   "metadata": {},
   "outputs": [],
   "source": [
    "from dateutil import parser\n",
    "df[[\"Duration\"]] = df[[\"Duration\"]].fillna(value=0)\n",
    "df['Start Time'] = pd.to_datetime(df['Start Time'])\n",
    "df[\"Duration\"] = df[\"Duration\"].apply(lambda x: timedelta(0, x))\n",
    "end_time = df[\"Start Time\"] + df[\"Duration\"]\n",
    "df.insert(2, \"End Time\", end_time)"
   ]
  },
  {
   "cell_type": "markdown",
   "metadata": {},
   "source": [
    "Let's check `Start Time` and `End Time`.\n",
    "Assume you were an attacker, what do you do to deceive data? You may want to use VPN from multiple computers. See if there is an overlap between them."
   ]
  },
  {
   "cell_type": "code",
   "execution_count": 5,
   "metadata": {
    "scrolled": false
   },
   "outputs": [
    {
     "name": "stdout",
     "output_type": "stream",
     "text": [
      "[('Moses.K', '172.30.122.56', '172.27.26.101')]\n"
     ]
    }
   ],
   "source": [
    "df = df.sort_values(\"Username\")\n",
    "usernames = df[\"Username\"].unique()\n",
    "suspect = []\n",
    "for user in usernames:\n",
    "    user_rows = df[df[\"Username\"] == user]\n",
    "    intervals = []\n",
    "    for i, row in user_rows.iterrows():\n",
    "        start_time = row[\"Start Time\"]\n",
    "        end_time = row[\"End Time\"]\n",
    "        real_ip = row[\"Real Ip\"]\n",
    "        intervals.append((start_time, end_time, real_ip))\n",
    "    intervals.sort()\n",
    "    # see if there is an overlap in intervals\n",
    "    is_suspicious = False\n",
    "    for i in range(1, len(intervals)):\n",
    "        prev_left, prev_right, prev_ip = intervals[i - 1]\n",
    "        cur_left, cur_right, cur_ip = intervals[i]\n",
    "        if prev_left <= cur_left <= prev_right and prev_ip != cur_ip:\n",
    "            is_suspicious = True\n",
    "        if is_suspicious:\n",
    "            suspect.append((user, prev_ip, cur_ip))\n",
    "            break\n",
    "print(suspect)"
   ]
  },
  {
   "cell_type": "markdown",
   "metadata": {},
   "source": [
    "Yes! We've found a suspicious user that has an overlap in accessing.\n",
    "He seems to have enter VPN using two different IPs at the same time.\n",
    "\n",
    "![badgea1](img/badgea1.png)"
   ]
  }
 ],
 "metadata": {
  "kernelspec": {
   "display_name": "Python 3.11.0b4 64-bit",
   "language": "python",
   "name": "python3"
  },
  "language_info": {
   "codemirror_mode": {
    "name": "ipython",
    "version": 3
   },
   "file_extension": ".py",
   "mimetype": "text/x-python",
   "name": "python",
   "nbconvert_exporter": "python",
   "pygments_lexer": "ipython3",
   "version": "3.11.0"
  },
  "vscode": {
   "interpreter": {
    "hash": "b7866fe74932d61b081c4ec2597adfb5d737ce2ec54e37047e1f636f4795859c"
   }
  }
 },
 "nbformat": 4,
 "nbformat_minor": 2
}
