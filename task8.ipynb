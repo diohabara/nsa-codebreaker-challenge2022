{
 "cells": [
  {
   "cell_type": "markdown",
   "metadata": {},
   "source": [
    "# Task 8 - Raiding the Vault - (Reverse Engineering, [redacted])Points: 2000\n",
    "\n",
    "## Problem statement\n",
    "\n",
    "> You're an administrator! Congratulations!\n",
    "> It still doesn't look like we're able to find the key to recover the victim's files, though. Time to look at how the site stores the keys used to encrypt victim's files. You'll find that their database uses a \"key-encrypting-key\" to protect the keys that encrypt the victim files. Investigate the site and recover the key-encrypting key.\n",
    "> Enter the base64-encoded value of the key-encrypting-key\n"
   ]
  },
  {
   "cell_type": "code",
   "execution_count": null,
   "metadata": {},
   "outputs": [],
   "source": []
  }
 ],
 "metadata": {
  "kernelspec": {
   "display_name": "Python 3.10.5 ('.venv': poetry)",
   "language": "python",
   "name": "python3"
  },
  "language_info": {
   "name": "python",
   "version": "3.10.5"
  },
  "orig_nbformat": 4,
  "vscode": {
   "interpreter": {
    "hash": "7340141b1bedd2bdf59474c73850bf87451207a8ef665322ce50be7e268f9e4c"
   }
  }
 },
 "nbformat": 4,
 "nbformat_minor": 2
}
