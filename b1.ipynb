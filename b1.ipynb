{
 "cells": [
  {
   "cell_type": "markdown",
   "metadata": {},
   "source": [
    "# Task B1 - Information Gathering - (Reverse Engineering, Web Analysis)Points: 10\n",
    "\n",
    "## Problem statement\n",
    "\n",
    "The attacker left a file with a ransom demand, which points to a site where they're demanding payment to release the victim's files.\n",
    "We suspect that the attacker may not have been acting entirely on their own. There may be a connection between the attacker and a larger ransomware-as-a-service ring.\n",
    "Analyze the demand site, and see if you can find a connection to another ransomware-related site.\n",
    "\n",
    "## What to do\n",
    "\n",
    "Enter the domain name of the associated site."
   ]
  },
  {
   "cell_type": "markdown",
   "metadata": {},
   "source": [
    "First, look at the content of the file."
   ]
  },
  {
   "cell_type": "code",
   "execution_count": 2,
   "metadata": {
    "vscode": {
     "languageId": "shellscript"
    }
   },
   "outputs": [
    {
     "name": "stdout",
     "output_type": "stream",
     "text": [
      "Your system has been breached by professional hackers.  Your files have been encrypted, but they are safe.\n",
      "Visit https://bdwnrkkgkzkyawpw.unlockmyfiles.biz/ to find out how to recover them.\n"
     ]
    }
   ],
   "source": [
    "%%bash\n",
    "cat data/b1/YOUR_FILES_ARE_SAFE.txt"
   ]
  },
  {
   "cell_type": "markdown",
   "metadata": {},
   "source": [
    "Next, check what the site has using a browser.\n",
    "I used MS Edge."
   ]
  },
  {
   "cell_type": "markdown",
   "metadata": {},
   "source": [
    "Here it looks like.\n",
    "\n",
    "![ransom_site](img/random_site.png)"
   ]
  },
  {
   "cell_type": "markdown",
   "metadata": {},
   "source": [
    "After reading through it, there seem no links. Use developer tools to dive deeper.\n",
    "Type `F12` and go to `Network` tabs. You can see from where this page gets sources.\n",
    "\n",
    "![browser_network](img/browser_network.png)\n",
    "\n",
    "From this, I found a url that is different from <https://bdwnrkkgkzkyawpw.unlockmyfiles.biz/>.\n",
    "\n",
    "![b1_answer](img/b1answer.png)"
   ]
  },
  {
   "cell_type": "markdown",
   "metadata": {
    "vscode": {
     "languageId": "shellscript"
    }
   },
   "source": [
    "The answer is <https://fqdhyckntpkovqhu.ransommethis.net/demand>\n",
    "\n",
    "![badgeb1](img/badgeb1.png)"
   ]
  }
 ],
 "metadata": {
  "kernelspec": {
   "display_name": "Python 3.10.5 ('.venv': poetry)",
   "language": "python",
   "name": "python3"
  },
  "language_info": {
   "codemirror_mode": {
    "name": "ipython",
    "version": 3
   },
   "file_extension": ".py",
   "mimetype": "text/x-python",
   "name": "python",
   "nbconvert_exporter": "python",
   "pygments_lexer": "ipython3",
   "version": "3.10.5"
  },
  "orig_nbformat": 4,
  "vscode": {
   "interpreter": {
    "hash": "7340141b1bedd2bdf59474c73850bf87451207a8ef665322ce50be7e268f9e4c"
   }
  }
 },
 "nbformat": 4,
 "nbformat_minor": 2
}
